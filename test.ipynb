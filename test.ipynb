{
 "cells": [
  {
   "cell_type": "markdown",
   "id": "91eece4c",
   "metadata": {
    "slideshow": {
     "slide_type": "slide"
    }
   },
   "source": [
    "## Open Fest 2022\n",
    "\n",
    "\n",
    "# **Is the future of VLSI design open source ?**\n",
    "\n",
    "\n",
    "### Radoslav Borisov / 15 Oct 2022"
   ]
  },
  {
   "cell_type": "markdown",
   "id": "d2ec2fdd",
   "metadata": {
    "slideshow": {
     "slide_type": "slide"
    }
   },
   "source": [
    "## Content\n",
    "\n",
    "### Introduction\n",
    "    What VLSI design stands for ?\n",
    "    "
   ]
  },
  {
   "cell_type": "code",
   "execution_count": null,
   "id": "cfd8a778",
   "metadata": {
    "slideshow": {
     "slide_type": "slide"
    }
   },
   "outputs": [],
   "source": [
    "Testing slide"
   ]
  },
  {
   "cell_type": "code",
   "execution_count": null,
   "id": "81f650bc",
   "metadata": {
    "slideshow": {
     "slide_type": "subslide"
    }
   },
   "outputs": [],
   "source": [
    "Testing sub slide"
   ]
  },
  {
   "cell_type": "code",
   "execution_count": null,
   "id": "2fa1c3ce",
   "metadata": {
    "slideshow": {
     "slide_type": "fragment"
    }
   },
   "outputs": [],
   "source": [
    "Testing fragment"
   ]
  },
  {
   "cell_type": "code",
   "execution_count": null,
   "id": "45ac1230",
   "metadata": {
    "slideshow": {
     "slide_type": "skip"
    }
   },
   "outputs": [],
   "source": [
    "Testing skip"
   ]
  },
  {
   "cell_type": "code",
   "execution_count": null,
   "id": "776afd04",
   "metadata": {
    "slideshow": {
     "slide_type": "notes"
    }
   },
   "outputs": [],
   "source": [
    "Testing notes"
   ]
  }
 ],
 "metadata": {
  "celltoolbar": "Slideshow",
  "kernelspec": {
   "display_name": "Python 3 (ipykernel)",
   "language": "python",
   "name": "python3"
  },
  "language_info": {
   "codemirror_mode": {
    "name": "ipython",
    "version": 3
   },
   "file_extension": ".py",
   "mimetype": "text/x-python",
   "name": "python",
   "nbconvert_exporter": "python",
   "pygments_lexer": "ipython3",
   "version": "3.10.7"
  }
 },
 "nbformat": 4,
 "nbformat_minor": 5
}
