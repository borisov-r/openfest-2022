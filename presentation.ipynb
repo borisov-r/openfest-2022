{
 "cells": [
  {
   "cell_type": "markdown",
   "id": "05bd8803",
   "metadata": {
    "slideshow": {
     "slide_type": "slide"
    }
   },
   "source": [
    "\n",
    "### Open Fest 2022 / 20 years anniversary\n",
    "\n",
    "\n",
    "\n",
    "# **Is the future of VLSI design open source ?**\n",
    "\n",
    "\n",
    "### Radoslav Borisov / 15 Oct 2022\n",
    "\n",
    "\n",
    "<img src=\"misc/feedback-link-qr-code.svg\" width=\"150px\" style=\"margin-left: 600px;\" />\n"
   ]
  },
  {
   "cell_type": "markdown",
   "id": "af160770",
   "metadata": {
    "slideshow": {
     "slide_type": "notes"
    }
   },
   "source": [
    "Good day everyone and welcome to my presentation. Thank you all for coming here today and congratulations to the organizers for their 20th aniversary.\n",
    "\n",
    "The title of my presentation is \"Is the future of VLSI design open source ?\".\n",
    "\n",
    "This question came to my mind this summer while whatchin some youtube videos about designing integrate circuits using open source software. I thought that it will be interesting topic for this conference, but I wasn't aware how big of a question it is until I started working on the presentation.\n",
    "\n",
    "The answer to this question is not trivial and in the next slides I'll try to explain why.\n",
    "\n",
    "During this process I'll show some of the advancements in the past few years in the field and how you can design your own integrated circuits using open source tools and even fabricate them for free.\n",
    "\n",
    "Very large-scale integration is the process of creating an integrated circuit by combining millions or billions of MOS transistors onto a single chip. VLSI began in the 1970s when MOS integrated circuit chips were widely adopted, enabling complex semiconductor and telecommunication technologies to be developed.\n",
    "\n",
    "Let me start by saying a few words about my own background."
   ]
  },
  {
   "cell_type": "markdown",
   "id": "a6a257e1",
   "metadata": {
    "slideshow": {
     "slide_type": "slide"
    }
   },
   "source": [
    "## Few words about my background\n",
    "\n"
   ]
  },
  {
   "cell_type": "markdown",
   "id": "cd640b00",
   "metadata": {
    "slideshow": {
     "slide_type": "notes"
    }
   },
   "source": [
    "I have masters degree in Radiocommunications and I have been in the field of microlectronics for more than 15 years already.\n",
    "\n",
    "Mostly worked in the RF, high speed digital and analog design field, even designed some photonics circuits.\n",
    "\n",
    "This presentation is mostly about digital designs, so it's not exactly my field of expertise, but I think that it is important to have presentations on open hardware designs similar to the open source software topics."
   ]
  },
  {
   "cell_type": "markdown",
   "id": "d2ec2fdd",
   "metadata": {
    "slideshow": {
     "slide_type": "slide"
    }
   },
   "source": [
    "## What do we need to design a chip and manufacture it ?\n",
    "\n"
   ]
  },
  {
   "cell_type": "markdown",
   "id": "7fc02303",
   "metadata": {
    "slideshow": {
     "slide_type": "fragment"
    }
   },
   "source": [
    "1. Foundries and Fabs (Factories)"
   ]
  },
  {
   "cell_type": "markdown",
   "id": "dc95108b",
   "metadata": {
    "slideshow": {
     "slide_type": "fragment"
    }
   },
   "source": [
    "2. Design idea"
   ]
  },
  {
   "cell_type": "markdown",
   "id": "4383ddbd",
   "metadata": {
    "slideshow": {
     "slide_type": "fragment"
    }
   },
   "source": [
    "3. Software"
   ]
  },
  {
   "cell_type": "markdown",
   "id": "aae83b07",
   "metadata": {
    "slideshow": {
     "slide_type": "fragment"
    }
   },
   "source": [
    "3. Test equipement or test software"
   ]
  },
  {
   "cell_type": "markdown",
   "id": "a9705ffb",
   "metadata": {
    "slideshow": {
     "slide_type": "notes"
    }
   },
   "source": [
    "Before we start we should be aware of the whole process.\n",
    "\n",
    "In order to fabricate something we need factory.\n",
    "\n",
    "Good (or bad) design idea\n",
    "\n",
    "Some software that can help during the desing process\n",
    "\n",
    "And finally we need some test equipment, test software or both to validate the design\n",
    "\n",
    "I the next slides I'll focus on this 4 points and hopefully at the end I'll try to answer the question from the title and of course this is just my opinion and vision.\n",
    "\n",
    "To make sure that we are on the same page and we are speaking on the same language I'll explain some fundamental concepts about some terms from the Fabs."
   ]
  },
  {
   "cell_type": "markdown",
   "id": "554506e5",
   "metadata": {
    "slideshow": {
     "slide_type": "slide"
    }
   },
   "source": [
    "# 1. Foundries and Fabs (Factories)"
   ]
  },
  {
   "cell_type": "markdown",
   "id": "4b626193",
   "metadata": {
    "slideshow": {
     "slide_type": "notes"
    }
   },
   "source": [
    "Let's have a look how fabs are working."
   ]
  },
  {
   "cell_type": "markdown",
   "id": "c3675d53",
   "metadata": {
    "slideshow": {
     "slide_type": "subslide"
    }
   },
   "source": [
    "## Foundries and Fabs\n",
    "\n",
    "The biggest 6 Foundries are: TSMC, Intel, Samsung, UMC, GlobalFoundries, SMIC, ST Microelectronics ...\n",
    "\n",
    "<img src=\"misc/skywater-fab.jpg\" width=\"700px\" />\n"
   ]
  },
  {
   "cell_type": "markdown",
   "id": "cf74475c",
   "metadata": {
    "slideshow": {
     "slide_type": "notes"
    }
   },
   "source": [
    "Foundries are called the companies that are responsible for the manufacturing of your design. The foundries can have multiple Fabs facilities eighter on one location or spread all around the world. Fabs provide so called PDKs (Process Design Kits) which should describe thoroughly their process and designers use for their designs. \n",
    "\n",
    "The biggest 6 Foundries in the world are: TSMC which holds more than 50% of the market and was the first started working using the pure play foundry model (just fabricating ICs and no end product) as opposed to Samsung, which has own chips and fabricate them, UMC, GlobaFoundries, SMIC and ST Microelectronics\n",
    "\n",
    "The Fabs look like the one in the photo and they are expensive to maintain 24/7. The reason for this is trivial. It is really hard to maintain dust free environment. The fabrication process is affected by really small particles and even slight contaminations can make circuits not functional and damage a whole batch of wafers not usable.\n",
    "\n",
    "Having said that the machines used during the manufacturing process also very expensive, sensitive to the environment and some of them require toxic gases to operate."
   ]
  },
  {
   "cell_type": "markdown",
   "id": "ed5f222a",
   "metadata": {
    "slideshow": {
     "slide_type": "subslide"
    }
   },
   "source": [
    "## Fabrication process\n",
    "\n",
    "<img src=\"misc/fabrication-process-steps.png\" width=\"1440px\" />\n",
    "\n"
   ]
  },
  {
   "cell_type": "markdown",
   "id": "aca9abcd",
   "metadata": {
    "slideshow": {
     "slide_type": "notes"
    }
   },
   "source": [
    "On the left you are seeing how a patterned wafer looks like.\n",
    "\n",
    "Wafer are sliced from one big crystal grown to size usually nowadays 12'' by some processes and then are sliced, cleaned and polished. This is the substrate on which the design will be patterned.\n",
    "\n",
    "After signing NDA and paying for fabrication you submit your design as a GDS or OASIS file similar to the Gerber files for PCB designs. This is your pattern that you want to fabricate on the Silicon substrate. The Fab takes your file checks if it is manufacturable using simple rules and in case everything looks good it is send for Mask manufacturing. \n",
    "The masks are the most expensive part usually and a lot of effort is spend to reduce the number of masks.\n",
    "For latest processes a set of masks can cost more than million dollar.\n",
    "In order to reduce the costs for latest technology nodes Fabs are oraganizing so called MPW (Multi-Project Wafers), where different companies send their designs for fabrication and all designs are fabricated using one set of masks.\n",
    "For mass production a company is paying for the masks and purchases number of wafers can be the range of thousands.\n",
    "\n",
    "After the masks fabrication the process of applying your design on the wafer starts by applying the patterns for the transistors. This part is called Front-End Of Line processes like oxidation, diffusion, lithography, etching, ion implantation, deposition, chemical-mechanical polishing are applied in a sequence.\n",
    "\n",
    "Once the transistors are layed out on the substrate and the connection to the first metal layer are finished, the so called Back End Of Line or BEOL part is starting. The BEOL part defines the so called stack of the process and is used for interconnections and adding passive devices like capacitors, resistors and inductors. Of course capacitors and resistors are realized also in the FEOL part.\n",
    "\n",
    "Finally after all metal layers are available there are multiple options for finishing and depending how you would like your chip to be attached to the PCB, you can pick the right one: bonding (used in standard QFN packages, MSOP), balls for BGA packaging or to attach balls directly on the chip which is called WLSP (wafer level scale package)."
   ]
  },
  {
   "cell_type": "markdown",
   "id": "ea7e89df",
   "metadata": {
    "slideshow": {
     "slide_type": "subslide"
    }
   },
   "source": [
    "<img src=\"misc/packages.svg\" width=\"1440px\" />"
   ]
  },
  {
   "cell_type": "markdown",
   "id": "0885fb58",
   "metadata": {
    "slideshow": {
     "slide_type": "subslide"
    }
   },
   "source": [
    "## Basic steps\n",
    "\n",
    "<img src=\"misc/fabrication-process-steps-litho.png\" width=\"1440px\" />\n",
    "\n",
    "### Reference: https://en.wikichip.org/wiki/mask\n",
    "\n",
    "### Reticle limit for 193 nm EUV lithography steppers have maximum field size of 26x33 mm or 858 mm^2."
   ]
  },
  {
   "cell_type": "markdown",
   "id": "e24ccbd3",
   "metadata": {
    "slideshow": {
     "slide_type": "notes"
    }
   },
   "source": [
    "Let's look how the masks are fabricated and what are the limitations.\n",
    "\n",
    "UV light in the range of 193 nm is used to shine through the photomask and using the reduction lens the pattern from the mask is applied on the wafer. There is no difference between reticle and mask.\n",
    "\n",
    "Current 193 nm EUV lithography machines have a maximum field size of 26 mm by 33 mm or 858 mm² a they have so called stepper in them, which moves the wafer very precisely, so that the pattern in transfered accross the whole wafer."
   ]
  },
  {
   "cell_type": "markdown",
   "id": "8bbb3da7",
   "metadata": {
    "slideshow": {
     "slide_type": "subslide"
    }
   },
   "source": [
    "<img src=\"misc/stepper-machine.png\" width=\"900px\" />"
   ]
  },
  {
   "cell_type": "markdown",
   "id": "9ecfdb7e",
   "metadata": {
    "slideshow": {
     "slide_type": "subslide"
    }
   },
   "source": [
    "## Complementary Metal Oxide Process (CMOS)\n",
    "\n",
    "<img src=\"misc/130nm-transistor.svg\" width=\"1440px\" />\n",
    "\n",
    "\n",
    "## Process Variations (PVT - Process, Voltage, Temperature)\n",
    "\n",
    "1. Process variation - defined in transistor model corners (TT, SF, FS, FF) and parasitics extraction corners\n",
    "2. Voltage variation - defined in transistor model corners and in the simulator\n",
    "3. Temperature variation - defined in the transistor model corners and in the simulator\n"
   ]
  },
  {
   "cell_type": "markdown",
   "id": "9a40c5ad",
   "metadata": {
    "slideshow": {
     "slide_type": "notes"
    }
   },
   "source": [
    "In the CMOS process the main building blocks are N and P type Metal Oxide Transistors.\n",
    "\n",
    "What makes them so special is that used together they are able to provide almost zero current, or very low power dissipation while in defined state. This means that they are going to draw current only while switching from On to Off state.\n",
    "\n",
    "N-type semiconductors are created by doping an intrinsic semiconductor with an electron donor during manufacture. The term n-type comes from the negative charge of the electron. In n-type semiconductors, electrons are the majority carriers and holes are the minority carriers.\n",
    "\n",
    "The term p-type refers to the positive charge of a hole. As opposed to n-type semiconductors, p-type semiconductors have a larger hole concentration than electron concentration.\n",
    "\n",
    "Usually the gate lenght is used to provide information about the minimal pattern that this process is capable to reliably fabricate specifies the so called process node. For example 180 nm node, 130 nm node, 45 nm, 28 nm node and so on. This gives opportunity by changing few masks the already working IP or design to be improved by the foundry by moving to node with smalled feature size like from 28 nm to 22 nm for example. This would reduce the size of the chip in the reticle and increase the number of chips on the wafer and also improve the performance and reduce the power consumption at the same time.\n",
    "\n",
    "This scaling was predicted by one of the founders of Intel Gordon Moore and is the observation that the number of transistors in a dense integrated circuit (IC) doubles about every two years. Moore's law is an observation and projection of a historical trend. Rather than a law of physics, it is an empirical relationship linked to gains from experience in production.\n",
    "\n",
    "In the software for circuits design there is a parameter called PVT which stands for process variation, voltage variation and temperature variation. The process variations account for non idealities during the manufacturing of the transistors and give the minimum, nominal and the typical performance of the transistors. Because we have two types of transistors which can independently change their performance, because of the process we can have TT, SS, SF, FS, FF corner cases."
   ]
  },
  {
   "cell_type": "markdown",
   "id": "cb3d3461",
   "metadata": {
    "slideshow": {
     "slide_type": "subslide"
    }
   },
   "source": [
    "## Process Development Kit (PDK)\n",
    "\n",
    "### Minimum components\n",
    "\n",
    "#### Design Manual (DM) and Standard Libraries\n",
    "\n",
    "#### Device Models\n",
    "\n",
    "#### Design Rules Check (DRC)\n",
    "\n",
    "#### Layout vs Schematic (LVS)\n",
    "\n",
    "\n",
    "### Additional components\n",
    "\n",
    "#### Place and route (P&R)\n",
    "\n",
    "#### Parasitics Extraction (PEX)\n",
    "\n",
    "#### Eletromigration and IR drop (EMIR)\n",
    "\n",
    "#### Programmable Electrical Rules Checking (ERC) \n",
    "\n",
    "#### and more ..."
   ]
  },
  {
   "cell_type": "markdown",
   "id": "0109277a",
   "metadata": {
    "slideshow": {
     "slide_type": "slide"
    }
   },
   "source": [
    "\n",
    "# 2. Design idea\n"
   ]
  },
  {
   "cell_type": "markdown",
   "id": "5098b662",
   "metadata": {
    "slideshow": {
     "slide_type": "notes"
    }
   },
   "source": [
    "Somethimes the life of some devices is much longer than the life of the company that has developed the circuit.\n",
    "For example nuclear plant equipment, rocket or space applications. Security and alarm systems. The certification of such devices is expensive requires long time testing."
   ]
  },
  {
   "cell_type": "markdown",
   "id": "0d6c4a67",
   "metadata": {
    "slideshow": {
     "slide_type": "subslide"
    }
   },
   "source": [
    "## Design idea\n",
    "\n",
    "### Digital design\n",
    "\n",
    "### Analog design\n",
    "\n",
    "### Mixed signal design\n",
    "\n",
    "### RF design"
   ]
  },
  {
   "cell_type": "markdown",
   "id": "c83b5c32",
   "metadata": {
    "slideshow": {
     "slide_type": "notes"
    }
   },
   "source": [
    "Depending on the Design idea different flows can be used.\n",
    "For example in the digital design input data is usually Verilog or VHDL code which is syntesized.\n",
    "For analog design usually schematic is used as input data."
   ]
  },
  {
   "cell_type": "markdown",
   "id": "8fadfa45",
   "metadata": {
    "slideshow": {
     "slide_type": "slide"
    }
   },
   "source": [
    "\n",
    "# 3. Software\n"
   ]
  },
  {
   "cell_type": "markdown",
   "id": "88f87228",
   "metadata": {
    "slideshow": {
     "slide_type": "subslide"
    }
   },
   "source": [
    "\n",
    "# FSiC 2018\n",
    "\n",
    "<img src=\"misc/FSiC2018.png\" />\n"
   ]
  },
  {
   "cell_type": "markdown",
   "id": "9bfa24ac",
   "metadata": {
    "slideshow": {
     "slide_type": "subslide"
    }
   },
   "source": [
    "## Free Silicon, free as in freedom\n",
    "\n",
    "The Free Silicon Foundation (F-Si) is a nonprofit organization with the scope of promoting:\n",
    "\n",
    "1. Free and Open Source (FOS) CAD tools for designing integrated circuits,\n",
    "2. the sharing of hardware designs and libraries,\n",
    "3. common standards,\n",
    "4. the freedom of users in the context of silicon integrated circuits.\n",
    "\n",
    "First conference happened in 2018.\n",
    "\n",
    "https://wiki.f-si.org"
   ]
  },
  {
   "cell_type": "markdown",
   "id": "57bffef1",
   "metadata": {
    "slideshow": {
     "slide_type": "notes"
    }
   },
   "source": [
    "In 2019 I heard about FSiC and even tought of going to Paris on this conference, but couldn't manage and decided to go in 2020 and then pandemic happened. Everything is great, but there was something missing. And the missing part was not the software part. There were already open source SPICE simulators, layout generation softwares and DRC and LVS capable tools. The only thing what was missing was a free and open PDK. Before that if you want to fabricate an ASIC you need to sign NDA with the Fab and get validated PDK and you know that using this PDK you are getting proper simulations (depending on your design skills you can have variation), but in case everything works on simulation, once fabricated most times things work as expected. This is called first time right design and it's important, because of the time and cost for the fabrication of the ASIC.\n",
    "ASiC (application-specific integrated circuit)\n",
    " \n",
    "And suddently something very interesting happened ...."
   ]
  },
  {
   "cell_type": "markdown",
   "id": "efbd55e8",
   "metadata": {
    "slideshow": {
     "slide_type": "subslide"
    }
   },
   "source": [
    "# Skywater Open PDK\n",
    "\n",
    "https://github.com/google/skywater-pdk first commit on May 7, 2020\n"
   ]
  },
  {
   "cell_type": "markdown",
   "id": "e7269fe4",
   "metadata": {
    "slideshow": {
     "slide_type": "fragment"
    }
   },
   "source": [
    "## Documentation\n",
    "\n",
    "https://skywater-pdk.readthedocs.io"
   ]
  },
  {
   "cell_type": "markdown",
   "id": "0e2085b0",
   "metadata": {
    "slideshow": {
     "slide_type": "fragment"
    }
   },
   "source": [
    "## PDK Libraries and files\n",
    "\n",
    "https://github.com/google/skywater-pdk"
   ]
  },
  {
   "cell_type": "markdown",
   "id": "60a38cd7",
   "metadata": {
    "slideshow": {
     "slide_type": "fragment"
    }
   },
   "source": [
    "## Community\n",
    "\n",
    "https://open-source-silicon.slack.com"
   ]
  },
  {
   "cell_type": "markdown",
   "id": "ecac64ad",
   "metadata": {
    "slideshow": {
     "slide_type": "subslide"
    }
   },
   "source": [
    "## Inspiration information on 130 nm Process Node\n",
    "\n",
    "https://docs.google.com/document/d/1sMmoCfS5l6Uz8sl9Bk3R32XtsdZmC1Hw6bY9nm6r-PA/edit#heading=h.9uyhvd6abdvx\n",
    "\n",
    "https://en.wikichip.org/wiki/130_nm_lithography_process"
   ]
  },
  {
   "cell_type": "markdown",
   "id": "7e324c17",
   "metadata": {
    "slideshow": {
     "slide_type": "subslide"
    }
   },
   "source": [
    "## Open-Source EDA Tools\n",
    "\n",
    "#### OpenROAD\n",
    "https://openroad.readthedocs.io/en/latest/main/README.html#introduction\n",
    "\n",
    "OpenROAD is the leading open-source, foundational application for semiconductor digital design. It eliminates the barriers of cost, risk and uncertainty in hardware design to foster open access, expertise, rapid innovation, and faster design turnaround. The OpenROAD application enables flexible flow control through an API with bindings in Tcl and Python.\n",
    "\n",
    "#### OpenLane\n",
    "https://openlane-docs.readthedocs.io/en/rtd-develop/\n",
    "\n",
    "OpenLANE is an automated RTL to GDSII flow based on several components including OpenROAD, Yosys, Magic, Netgen, Fault, OpenPhySyn, CVC, SPEF-Extractor and custom methodology scripts for design exploration and optimization. The flow performs full ASIC implementation steps from RTL all the way down to GDSII - this capability will be released in the coming weeks with completed SoC design examples that have been sent to SkyWater for fabrication."
   ]
  },
  {
   "cell_type": "markdown",
   "id": "1a9ca223",
   "metadata": {
    "slideshow": {
     "slide_type": "subslide"
    }
   },
   "source": [
    "<img src=\"misc/opencircuitdesign.svg\" />"
   ]
  },
  {
   "cell_type": "markdown",
   "id": "c13e930c",
   "metadata": {
    "slideshow": {
     "slide_type": "subslide"
    }
   },
   "source": [
    "<img src=\"misc/opencircuitdesign1.svg\" />"
   ]
  },
  {
   "cell_type": "markdown",
   "id": "7bd9997f",
   "metadata": {
    "slideshow": {
     "slide_type": "subslide"
    }
   },
   "source": [
    "<img src=\"misc/opencircuitdesign2.svg\" />"
   ]
  },
  {
   "cell_type": "markdown",
   "id": "db5553f6",
   "metadata": {
    "slideshow": {
     "slide_type": "subslide"
    }
   },
   "source": [
    "<img src=\"misc/opencircuitdesign3.svg\" />"
   ]
  },
  {
   "cell_type": "markdown",
   "id": "60ee0963",
   "metadata": {
    "slideshow": {
     "slide_type": "subslide"
    }
   },
   "source": [
    "<img src=\"misc/opencircuitdesign4.svg\" />"
   ]
  },
  {
   "cell_type": "markdown",
   "id": "18961602",
   "metadata": {
    "slideshow": {
     "slide_type": "subslide"
    }
   },
   "source": [
    "<img src=\"misc/opencircuitdesign5.svg\" />"
   ]
  },
  {
   "cell_type": "markdown",
   "id": "e4caafd0",
   "metadata": {
    "slideshow": {
     "slide_type": "subslide"
    }
   },
   "source": [
    "<img src=\"misc/opencircuitdesign6.svg\" />"
   ]
  },
  {
   "cell_type": "markdown",
   "id": "d3172cf0",
   "metadata": {
    "slideshow": {
     "slide_type": "subslide"
    }
   },
   "source": [
    "<img src=\"misc/opencircuitdesign7.svg\" />"
   ]
  },
  {
   "cell_type": "markdown",
   "id": "47726ac2",
   "metadata": {
    "slideshow": {
     "slide_type": "subslide"
    }
   },
   "source": [
    "## Open-Source EDA Tools\n",
    "### Tools Currently Supported by Open_PDKs\n",
    "\n",
    "iverilog\n",
    "https://iverilog.icarus.com\n",
    "\n",
    "qflow\n",
    "http://opencircuitdesign.com/qflow\n",
    "\n",
    "IRSIM\n",
    "http://opencircuitdesign.com/irsim\n",
    "\n",
    "xcircuit\n",
    "http://opencircuitdesign.com/xcircuit\n",
    "\n",
    "xyce\n",
    "https://xyce.sandia.gov\n"
   ]
  },
  {
   "cell_type": "markdown",
   "id": "421a9c74",
   "metadata": {
    "slideshow": {
     "slide_type": "subslide"
    }
   },
   "source": [
    "<img src=\"misc/opencircuitdesign8.svg\" />"
   ]
  },
  {
   "cell_type": "markdown",
   "id": "388ed52a",
   "metadata": {
    "slideshow": {
     "slide_type": "subslide"
    }
   },
   "source": [
    "<img src=\"misc/opencircuitdesign9.svg\" />"
   ]
  },
  {
   "cell_type": "markdown",
   "id": "927adb60",
   "metadata": {
    "slideshow": {
     "slide_type": "subslide"
    }
   },
   "source": [
    "## OpenRAM\n",
    "\n",
    "https://github.com/VLSIDA/OpenRAM\n",
    "\n",
    "\n",
    "## Libre SOC\n",
    "\n",
    "https://libre-soc.org"
   ]
  },
  {
   "cell_type": "markdown",
   "id": "1d1672f2",
   "metadata": {
    "slideshow": {
     "slide_type": "subslide"
    }
   },
   "source": [
    "## ZerotoASIC\n",
    "\n",
    "Zero to ASIC Course \n",
    "\n",
    "Matthew Venn is a science & technology communicator and electronic engineer. He brings 20 years of engineering experience to create excellent and innovative learning experiences for people all over the world.\n",
    "\n",
    "https://www.youtube.com/c/ZeroToASIC/featured\n",
    "https://www.zerotoasiccourse.com\n"
   ]
  },
  {
   "cell_type": "markdown",
   "id": "21cb7a37",
   "metadata": {
    "slideshow": {
     "slide_type": "subslide"
    }
   },
   "source": [
    "## ASIC development in the cloud with Proppy\n",
    "\n",
    "<img src=\"misc/proppy.svg\" />\n",
    "\n",
    "https://www.youtube.com/watch?v=yCyOVq5ZHYg\n"
   ]
  },
  {
   "cell_type": "markdown",
   "id": "8b82b9f8",
   "metadata": {
    "slideshow": {
     "slide_type": "subslide"
    }
   },
   "source": [
    "## Open-Source Hardware Addition on SKY130\n",
    "\n",
    "#### Teodor-Dumitru Ene - doing his PhD - Addition\n",
    "\n",
    "#### Addition is a very important hardware operation\n",
    "#### When a RISC-V processor boots into Linux, 65% to 72% of instructions use addition\n",
    "#### Basically all arithmetic operations are built off addition\n",
    "#### Subtraction is addition with a negative number\n",
    "#### Multiplication is repeated addition, so is division\n",
    "#### Incrementing the program counter is modified addition\n",
    "#### Elementary functions (log, sine, square root, exponential) are performed using a combination of lookup tables and addition\n",
    "\n",
    "https://docs.google.com/presentation/d/1A8KDiTH1qyAzy9gKalUJgxLuPrOgqfOg7t7j_XdqeGE/edit#slide=id.g1281339cad0_7_396\n",
    "\n",
    "https://www.youtube.com/watch?v=P7wjB2DKAIA\n"
   ]
  },
  {
   "cell_type": "markdown",
   "id": "f5441e8b",
   "metadata": {
    "slideshow": {
     "slide_type": "subslide"
    }
   },
   "source": [
    "<img src=\"misc/teodor.svg\" />"
   ]
  },
  {
   "cell_type": "markdown",
   "id": "1e2b480d",
   "metadata": {
    "slideshow": {
     "slide_type": "subslide"
    }
   },
   "source": [
    "### Inverter\n",
    "https://colab.research.google.com/github/chipsalliance/silicon-notebooks/blob/main/digital-inverter-openlane.ipynb\n",
    "\n",
    "### Adder\n",
    "https://colab.research.google.com/drive/1bqAWs2To8suxx5acmCYp10iWlKI-Qsn4"
   ]
  },
  {
   "cell_type": "markdown",
   "id": "c1ebc84f",
   "metadata": {},
   "source": [
    "## LibrEDA\n",
    "\n",
    "LibrEDA is a young libre-software framework for the physical design of silicon chips and tries to simplify the development of place and route tools. A strong motivation is democratization of silicon technology by making ASIC toolchains easily accessible for research, education and hobbyists. \n",
    "\n",
    "It's written in Rust and already supports Klayout. P&R tool with high potential.\n",
    "\n",
    "https://libreda.org/"
   ]
  },
  {
   "cell_type": "markdown",
   "id": "69710694",
   "metadata": {
    "slideshow": {
     "slide_type": "subslide"
    }
   },
   "source": [
    "## Efabless Open Shuttle Program\n",
    "\n",
    "<img src=\"misc/open-shuttle.svg\" />\n",
    "\n",
    "https://efabless.com/open_shuttle_program\n",
    "\n",
    "https://platform.efabless.com/projects/public\n"
   ]
  },
  {
   "cell_type": "markdown",
   "id": "ae522726",
   "metadata": {
    "slideshow": {
     "slide_type": "slide"
    }
   },
   "source": [
    "## What is comming next ?\n",
    "\n",
    "https://developers.google.com/silicon\n"
   ]
  },
  {
   "cell_type": "markdown",
   "id": "30a23952",
   "metadata": {
    "slideshow": {
     "slide_type": "fragment"
    }
   },
   "source": [
    "### Skywater 90 nm\n",
    "\n",
    "Today, Google is announcing the expansion of our partnership with SkyWater Technology. We are working together to release an open source process design kit (PDK) for SKY90-FD, SkyWater’s commercial 90nm fully depleted silicon on insulator (FDSOI) CMOS process technology. SKY90-FD is based on MIT Lincoln Laboratory’s 90 nm commercial FDSOI technology, and enables designers to create complex integrated circuits for a diverse range of applications."
   ]
  },
  {
   "cell_type": "markdown",
   "id": "6b49f057",
   "metadata": {
    "slideshow": {
     "slide_type": "fragment"
    }
   },
   "source": [
    "### GlobalFoundries 0.18UM 3.3V\n",
    "\n",
    "GlobalFoundries 0.18UM 3.3V/(5V)6V MCU PDK’s\n"
   ]
  },
  {
   "cell_type": "markdown",
   "id": "666b567e",
   "metadata": {
    "slideshow": {
     "slide_type": "slide"
    }
   },
   "source": [
    "## So what is the answer to the titles' question ?\n",
    "\n",
    "#### 1. LEF/DEF flow is good but mostly for digital circuits -> I think that all of the EDA tools are working with OpenAccess DB\n",
    "#### 2. Definetly this is huge step forward, but we still need propriatery software for higher end nodes like 65 nm, 45 nm, 28 nm, 22 nm\n",
    "#### 3. The learning curve is a little bit steep for beginners\n",
    "\n",
    "#### My assumption is that Open Source softwares will continue to evolve and will be used more and more in real designs, but the access to real PDKs for the latest nodes may still be an issue due to IPs and huge politics and market issues\n",
    "\n",
    "#### Chip designing and manufacturing will remain still huge part of the politics - CHIPS act, DARPA project, USA-China war and so on. \n",
    "\n",
    "#### Still what happened is amazing and I'm really impressed with everything happend last two years ! Just amazing !\n"
   ]
  },
  {
   "cell_type": "markdown",
   "id": "756f924e",
   "metadata": {
    "slideshow": {
     "slide_type": "notes"
    }
   },
   "source": [
    "And don't forget that there is no substitution to reading good references for best possible designs. Learning and sharing designs is now possible. "
   ]
  },
  {
   "cell_type": "markdown",
   "id": "2308412b",
   "metadata": {
    "slideshow": {
     "slide_type": "subslide"
    }
   },
   "source": [
    "<img src=\"misc/books-ref.jpg\" width=\"400px\" />"
   ]
  },
  {
   "cell_type": "markdown",
   "id": "2a5e9ca4",
   "metadata": {
    "slideshow": {
     "slide_type": "subslide"
    }
   },
   "source": [
    "References:\n",
    "\n",
    "Educational resources:\n",
    "- CMOS Online Courses - Jacob Baker - http://cmosedu.com\n",
    "- Free Silicon - https://wiki.f-si.org/index.php?title=Main_Page\n",
    "\n",
    "\n",
    "- Open Source Has Won. Why Open Hardware, Silicon Will Win Next\n",
    "  https://peertube.f-si.org/videos/watch/51218911-1bbc-4354-b6e4-1eb7c170686f\n",
    "- LEF/DEF reference - https://web.archive.org/web/20181031162337/http://www.ispd.cc/contests/18/lefdefref.pdf\n",
    "- The OpenLane MPW CI repo contains a regression test to ensure that new versions of OpenLane and OpenROAD continue to work on the efabless MPW designs - https://github.com/The-OpenROAD-Project/OpenLane-MPW-CI\n",
    "- gds3xtrude - https://codeberg.org/tok/gds3xtrude\n",
    "\n",
    "Other tools:\n",
    "\n",
    "QUCS and QUCS-S: https://ra3xdh.github.io/\n",
    "WRcad: http://www.wrcad.com/\n"
   ]
  },
  {
   "cell_type": "markdown",
   "id": "580e172e",
   "metadata": {
    "slideshow": {
     "slide_type": "slide"
    }
   },
   "source": [
    "\n",
    "<img src=\"misc/imagination-can-take-you-anywhere.jpg\" width=\"600px\" />\n"
   ]
  },
  {
   "cell_type": "markdown",
   "id": "8b435285",
   "metadata": {
    "slideshow": {
     "slide_type": "slide"
    }
   },
   "source": [
    "<img src=\"misc/feedback-link-qr-code.svg\" width=\"250\" style=\"float:left; margin-right: 20px;\" />\n",
    "\n",
    "<h2 id=\"Is-the-future-of-VLSI-design-open-source-?\" style=\"margin-top: 60px;\">Is the future of VLSI design open source ?<a class=\"anchor-link\" href=\"#Is-the-future-of-VLSI-design-open-source-?\">¶</a></h2>\n",
    "\n",
    "## Thank you\n"
   ]
  },
  {
   "cell_type": "markdown",
   "id": "2ee4b1bd",
   "metadata": {
    "slideshow": {
     "slide_type": "skip"
    }
   },
   "source": [
    "As you can see on the screen, our topic today is......\n",
    "    My talk is particularly relevant to those of you who....\n",
    "    This talk is designed to act as a springboard for discussion.\n",
    "    This morning/ afternoon I’m going to take a look at the recent developments in.....\n",
    "\n",
    "Presentation structure\n",
    "\n",
    "    In my presentation I’ll focus on three major issues.\n",
    "    This presentation is structured as follows....\n",
    "    The subject can be looked at under the following headings.....\n",
    "    We can break this area down into the following fields...."
   ]
  }
 ],
 "metadata": {
  "celltoolbar": "Slideshow",
  "kernelspec": {
   "display_name": "Python 3 (ipykernel)",
   "language": "python",
   "name": "python3"
  },
  "language_info": {
   "codemirror_mode": {
    "name": "ipython",
    "version": 3
   },
   "file_extension": ".py",
   "mimetype": "text/x-python",
   "name": "python",
   "nbconvert_exporter": "python",
   "pygments_lexer": "ipython3",
   "version": "3.10.7"
  }
 },
 "nbformat": 4,
 "nbformat_minor": 5
}
