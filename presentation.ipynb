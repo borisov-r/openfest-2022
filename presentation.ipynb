{
 "cells": [
  {
   "cell_type": "markdown",
   "id": "05bd8803",
   "metadata": {
    "slideshow": {
     "slide_type": "slide"
    }
   },
   "source": [
    "\n",
    "## Open Fest 2022\n",
    "\n",
    "\n",
    "\n",
    "# **Is the future of VLSI design open source ?**\n",
    "\n",
    "\n",
    "### Radoslav Borisov / 15 Oct 2022\n",
    "\n",
    "\n",
    "<img src=\"misc/feedback-link-qr-code.svg\" width=\"150px\" style=\"margin-left: 600px;\" />\n"
   ]
  },
  {
   "cell_type": "markdown",
   "id": "af160770",
   "metadata": {
    "slideshow": {
     "slide_type": "notes"
    }
   },
   "source": [
    "Good day everyone and welcome to my presentation. Thank you all for coming here today and congratulations to the organizers for their 20th aniversary.\n",
    "\n",
    "The title of my presentation is \"Is the future of VLSI design open source ?\".  \n",
    "The answer to this question is not trivial.\n",
    "\n",
    "In the next slides I'll try to explain why.\n",
    "\n",
    "During this process I'll show some of the advancements in the past few years in the field and how you can design your own integrated circuit using open source tools and even fabricate it for free.\n",
    "\n",
    "Very large-scale integration is the process of creating an integrated circuit by combining millions or billions of MOS transistors onto a single chip. VLSI began in the 1970s when MOS integrated circuit chips were widely adopted, enabling complex semiconductor and telecommunication technologies to be developed.\n",
    "\n",
    "Let me start by saying a few words about my own background."
   ]
  },
  {
   "cell_type": "markdown",
   "id": "a6a257e1",
   "metadata": {
    "slideshow": {
     "slide_type": "slide"
    }
   },
   "source": [
    "## Few words about my background\n",
    "\n"
   ]
  },
  {
   "cell_type": "markdown",
   "id": "cd640b00",
   "metadata": {
    "slideshow": {
     "slide_type": "notes"
    }
   },
   "source": [
    "I have masters degree in Radiocommunications and I have been in the field of microlectronics for more than 15 years already.\n",
    "\n",
    "Mostly worked in the RF, high speed digital and analog design field, even designed some photonics circuits."
   ]
  },
  {
   "cell_type": "markdown",
   "id": "d2ec2fdd",
   "metadata": {
    "slideshow": {
     "slide_type": "slide"
    }
   },
   "source": [
    "What do we need \n",
    "\n"
   ]
  },
  {
   "cell_type": "markdown",
   "id": "7fc02303",
   "metadata": {
    "slideshow": {
     "slide_type": "skip"
    }
   },
   "source": [
    "\n",
    "\n",
    "\n",
    "\n",
    "    \n",
    "    \n",
    "    "
   ]
  },
  {
   "cell_type": "code",
   "execution_count": null,
   "id": "81f650bc",
   "metadata": {
    "slideshow": {
     "slide_type": "subslide"
    }
   },
   "outputs": [],
   "source": [
    "Testing sub slide"
   ]
  },
  {
   "cell_type": "code",
   "execution_count": null,
   "id": "2fa1c3ce",
   "metadata": {
    "slideshow": {
     "slide_type": "fragment"
    }
   },
   "outputs": [],
   "source": [
    "Testing fragment"
   ]
  },
  {
   "cell_type": "code",
   "execution_count": null,
   "id": "45ac1230",
   "metadata": {
    "slideshow": {
     "slide_type": "skip"
    }
   },
   "outputs": [],
   "source": [
    "Testing skip"
   ]
  },
  {
   "cell_type": "markdown",
   "id": "a9705ffb",
   "metadata": {
    "slideshow": {
     "slide_type": "notes"
    }
   },
   "source": [
    "mTesting notes"
   ]
  },
  {
   "cell_type": "markdown",
   "id": "580e172e",
   "metadata": {
    "slideshow": {
     "slide_type": "slide"
    }
   },
   "source": [
    "\n",
    "<img src=\"misc/imagination-can-take-you-anywhere.jpg\" width=\"600px\" />\n"
   ]
  },
  {
   "cell_type": "markdown",
   "id": "8b435285",
   "metadata": {
    "slideshow": {
     "slide_type": "slide"
    }
   },
   "source": [
    "<img src=\"misc/feedback-link-qr-code.svg\" width=\"250\" style=\"float:left; margin-right: 20px;\" />\n",
    "\n",
    "<h2 id=\"Is-the-future-of-VLSI-design-open-source-?\" style=\"margin-top: 60px;\">Is the future of VLSI design open source ?<a class=\"anchor-link\" href=\"#Is-the-future-of-VLSI-design-open-source-?\">¶</a></h2>\n",
    "\n",
    "## Thank you\n"
   ]
  },
  {
   "cell_type": "markdown",
   "id": "2ee4b1bd",
   "metadata": {
    "slideshow": {
     "slide_type": "skip"
    }
   },
   "source": [
    "As you can see on the screen, our topic today is......\n",
    "    My talk is particularly relevant to those of you who....\n",
    "    This talk is designed to act as a springboard for discussion.\n",
    "    This morning/ afternoon I’m going to take a look at the recent developments in.....\n",
    "\n",
    "Presentation structure\n",
    "\n",
    "    In my presentation I’ll focus on three major issues.\n",
    "    This presentation is structured as follows....\n",
    "    The subject can be looked at under the following headings.....\n",
    "    We can break this area down into the following fields...."
   ]
  }
 ],
 "metadata": {
  "celltoolbar": "Slideshow",
  "kernelspec": {
   "display_name": "Python 3 (ipykernel)",
   "language": "python",
   "name": "python3"
  },
  "language_info": {
   "codemirror_mode": {
    "name": "ipython",
    "version": 3
   },
   "file_extension": ".py",
   "mimetype": "text/x-python",
   "name": "python",
   "nbconvert_exporter": "python",
   "pygments_lexer": "ipython3",
   "version": "3.10.7"
  }
 },
 "nbformat": 4,
 "nbformat_minor": 5
}
