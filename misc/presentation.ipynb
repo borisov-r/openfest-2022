{
 "cells": [
  {
   "cell_type": "markdown",
   "id": "05bd8803",
   "metadata": {
    "slideshow": {
     "slide_type": "slide"
    }
   },
   "source": [
    "\n",
    "### Open Fest 2022 / 20 years anniversary\n",
    "\n",
    "\n",
    "\n",
    "# **Is the future of VLSI design open source ?**\n",
    "\n",
    "\n",
    "### Radoslav Borisov / 15 Oct 2022\n",
    "\n",
    "\n",
    "<img src=\"misc/feedback-link-qr-code.svg\" width=\"150px\" style=\"margin-left: 600px;\" />\n"
   ]
  },
  {
   "cell_type": "markdown",
   "id": "af160770",
   "metadata": {
    "slideshow": {
     "slide_type": "notes"
    }
   },
   "source": [
    "Good day everyone and welcome to my presentation. Thank you all for coming here today and congratulations to the organizers for their 20th aniversary.\n",
    "\n",
    "The title of my presentation is \"Is the future of VLSI design open source ?\".  \n",
    "The answer to this question is not trivial.\n",
    "\n",
    "In the next slides I'll try to explain why.\n",
    "\n",
    "During this process I'll show some of the advancements in the past few years in the field and how you can design your own integrated circuit using open source tools and even fabricate it for free.\n",
    "\n",
    "Very large-scale integration is the process of creating an integrated circuit by combining millions or billions of MOS transistors onto a single chip. VLSI began in the 1970s when MOS integrated circuit chips were widely adopted, enabling complex semiconductor and telecommunication technologies to be developed.\n",
    "\n",
    "Let me start by saying a few words about my own background."
   ]
  },
  {
   "cell_type": "markdown",
   "id": "a6a257e1",
   "metadata": {
    "slideshow": {
     "slide_type": "slide"
    }
   },
   "source": [
    "## Few words about my background\n",
    "\n"
   ]
  },
  {
   "cell_type": "markdown",
   "id": "cd640b00",
   "metadata": {
    "slideshow": {
     "slide_type": "notes"
    }
   },
   "source": [
    "I have masters degree in Radiocommunications and I have been in the field of microlectronics for more than 15 years already.\n",
    "\n",
    "Mostly worked in the RF, high speed digital and analog design field, even designed some photonics circuits.\n",
    "\n",
    "This presentation is mostly about digital designs, so it's not exactly my field of expertise, but I think that it is important to have presentations on open hardware designs like open source software topics."
   ]
  },
  {
   "cell_type": "markdown",
   "id": "d2ec2fdd",
   "metadata": {
    "slideshow": {
     "slide_type": "slide"
    }
   },
   "source": [
    "## What do we need to design a chip and manufacture it ?\n",
    "\n"
   ]
  },
  {
   "cell_type": "markdown",
   "id": "7fc02303",
   "metadata": {
    "slideshow": {
     "slide_type": "fragment"
    }
   },
   "source": [
    "1. Fab (Factory)"
   ]
  },
  {
   "cell_type": "markdown",
   "id": "f4af46d9",
   "metadata": {
    "slideshow": {
     "slide_type": "fragment"
    }
   },
   "source": [
    "2. Design idea"
   ]
  },
  {
   "cell_type": "markdown",
   "id": "eb1ae6fa",
   "metadata": {
    "slideshow": {
     "slide_type": "fragment"
    }
   },
   "source": [
    "3. Software"
   ]
  },
  {
   "cell_type": "markdown",
   "id": "a1105c07",
   "metadata": {
    "slideshow": {
     "slide_type": "fragment"
    }
   },
   "source": [
    "3. Test equipement or test software"
   ]
  },
  {
   "cell_type": "markdown",
   "id": "a9705ffb",
   "metadata": {
    "slideshow": {
     "slide_type": "notes"
    }
   },
   "source": [
    "In order to fabricate something we need factory"
   ]
  },
  {
   "cell_type": "markdown",
   "id": "4e19d94c",
   "metadata": {
    "slideshow": {
     "slide_type": "slide"
    }
   },
   "source": [
    "## Foundries and Fabs\n",
    "\n",
    "The biggest 6 Foundries are: TSMC, Samsung, UMC, GlobalFoundries, SMIC, ST Microelectronics ...\n",
    "\n",
    "Fabs look like this inside:\n",
    "\n",
    "<img src=\"misc/skywater-fab.jpg\" width=\"700px\" />\n"
   ]
  },
  {
   "cell_type": "markdown",
   "id": "2431646e",
   "metadata": {
    "slideshow": {
     "slide_type": "subslide"
    }
   },
   "source": [
    "## Fabrication process\n",
    "\n",
    "<img src=\"misc/fabrication-process-steps.png\" width=\"1440px\" />\n",
    "\n"
   ]
  },
  {
   "cell_type": "markdown",
   "id": "943a1505",
   "metadata": {
    "slideshow": {
     "slide_type": "subslide"
    }
   },
   "source": [
    "<img src=\"misc/fabrication-process-steps-litho.png\" width=\"1440px\" />\n",
    "\n",
    "### Reference: https://en.wikichip.org/wiki/mask"
   ]
  },
  {
   "cell_type": "markdown",
   "id": "3a259f67",
   "metadata": {
    "slideshow": {
     "slide_type": "subslide"
    }
   },
   "source": [
    "## Process Variations\n",
    "\n",
    "### PVT\n",
    "\n",
    "    1. Process variation\n",
    "    2. Voltage variation\n",
    "    3. Temperature variation\n"
   ]
  },
  {
   "cell_type": "markdown",
   "id": "531a9120",
   "metadata": {
    "slideshow": {
     "slide_type": "slide"
    }
   },
   "source": [
    "## Inspiration information on 130 nm Process Node\n",
    "\n",
    "https://docs.google.com/document/d/1sMmoCfS5l6Uz8sl9Bk3R32XtsdZmC1Hw6bY9nm6r-PA/edit#heading=h.9uyhvd6abdvx\n",
    "\n",
    "https://en.wikipedia.org/wiki/OpenPOWER_Foundation"
   ]
  },
  {
   "cell_type": "markdown",
   "id": "7db002d1",
   "metadata": {
    "slideshow": {
     "slide_type": "slide"
    }
   },
   "source": [
    "## Skywater 130 nm PDK\n",
    "\n",
    "Standard cell libraries:\n",
    "\n",
    "https://skywater-pdk.readthedocs.io/en/main/contents/libraries/foundry-provided.html"
   ]
  },
  {
   "cell_type": "markdown",
   "id": "0914c855",
   "metadata": {
    "slideshow": {
     "slide_type": "slide"
    }
   },
   "source": [
    "<img src=\"misc/books-ref.jpg\" width=\"400px\" />"
   ]
  },
  {
   "cell_type": "markdown",
   "id": "356307cf",
   "metadata": {
    "slideshow": {
     "slide_type": "slide"
    }
   },
   "source": [
    "## Demonstration - OpenRoad\n",
    "\n",
    "https://colab.research.google.com/github/chipsalliance/silicon-notebooks/blob/main/digital-inverter-openlane.ipynb"
   ]
  },
  {
   "cell_type": "markdown",
   "id": "62670fd5",
   "metadata": {
    "slideshow": {
     "slide_type": "slide"
    }
   },
   "source": [
    "References:\n",
    "\n",
    "    - CMOS Online Courses - Jacob Baker - http://cmosedu.com\n",
    "    - Free Silicon - https://wiki.f-si.org/index.php?title=Main_Page\n",
    "\n",
    "    - Open Source Has Won. Why Open Hardware, Silicon Will Win Next\n",
    "      https://peertube.f-si.org/videos/watch/51218911-1bbc-4354-b6e4-1eb7c170686f\n",
    "    - LEF/DEF reference - https://web.archive.org/web/20181031162337/http://www.ispd.cc/contests/18/lefdefref.pdf\n",
    "    - The OpenLane MPW CI repo contains a regression test to ensure that new versions of OpenLane and OpenROAD continue to work on the efabless MPW designs - https://github.com/The-OpenROAD-Project/OpenLane-MPW-CI\n",
    "    - gds3xtrude - https://codeberg.org/tok/gds3xtrude"
   ]
  },
  {
   "cell_type": "markdown",
   "id": "580e172e",
   "metadata": {
    "slideshow": {
     "slide_type": "slide"
    }
   },
   "source": [
    "\n",
    "<img src=\"misc/imagination-can-take-you-anywhere.jpg\" width=\"600px\" />\n"
   ]
  },
  {
   "cell_type": "markdown",
   "id": "8b435285",
   "metadata": {
    "slideshow": {
     "slide_type": "slide"
    }
   },
   "source": [
    "<img src=\"misc/feedback-link-qr-code.svg\" width=\"250\" style=\"float:left; margin-right: 20px;\" />\n",
    "\n",
    "<h2 id=\"Is-the-future-of-VLSI-design-open-source-?\" style=\"margin-top: 60px;\">Is the future of VLSI design open source ?<a class=\"anchor-link\" href=\"#Is-the-future-of-VLSI-design-open-source-?\">¶</a></h2>\n",
    "\n",
    "## Thank you\n"
   ]
  },
  {
   "cell_type": "markdown",
   "id": "2ee4b1bd",
   "metadata": {
    "slideshow": {
     "slide_type": "skip"
    }
   },
   "source": [
    "As you can see on the screen, our topic today is......\n",
    "    My talk is particularly relevant to those of you who....\n",
    "    This talk is designed to act as a springboard for discussion.\n",
    "    This morning/ afternoon I’m going to take a look at the recent developments in.....\n",
    "\n",
    "Presentation structure\n",
    "\n",
    "    In my presentation I’ll focus on three major issues.\n",
    "    This presentation is structured as follows....\n",
    "    The subject can be looked at under the following headings.....\n",
    "    We can break this area down into the following fields...."
   ]
  }
 ],
 "metadata": {
  "celltoolbar": "Slideshow",
  "kernelspec": {
   "display_name": "Python 3 (ipykernel)",
   "language": "python",
   "name": "python3"
  },
  "language_info": {
   "codemirror_mode": {
    "name": "ipython",
    "version": 3
   },
   "file_extension": ".py",
   "mimetype": "text/x-python",
   "name": "python",
   "nbconvert_exporter": "python",
   "pygments_lexer": "ipython3",
   "version": "3.10.7"
  }
 },
 "nbformat": 4,
 "nbformat_minor": 5
}
